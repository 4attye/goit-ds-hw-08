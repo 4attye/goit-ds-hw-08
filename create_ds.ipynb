{
 "cells": [
  {
   "cell_type": "code",
   "id": "initial_id",
   "metadata": {
    "ExecuteTime": {
     "end_time": "2024-10-04T18:28:14.211942Z",
     "start_time": "2024-10-04T18:28:13.435319Z"
    }
   },
   "source": [
    "from pathlib import Path\n",
    "import pandas as pd\n",
    "from sklearn.model_selection import train_test_split\n",
    "from sklearn.svm import SVC\n",
    "from sklearn.ensemble import RandomForestClassifier\n",
    "from sklearn.metrics import classification_report"
   ],
   "outputs": [],
   "execution_count": 2
  },
  {
   "cell_type": "code",
   "id": "8b41b920a73abcb8",
   "metadata": {
    "ExecuteTime": {
     "end_time": "2024-10-04T18:28:14.728357Z",
     "start_time": "2024-10-04T18:28:14.212946Z"
    }
   },
   "source": [
    "data_idle = Path('data/idle')\n",
    "df_idle = pd.concat([pd.read_csv(f) for f in data_idle.glob('*.csv')], ignore_index=True)\n",
    "df_idle['activity']= 'idle'\n",
    "# df_idle.to_csv('idle.csv', index=False)"
   ],
   "outputs": [],
   "execution_count": 3
  },
  {
   "cell_type": "code",
   "id": "840e85fba506e8b9",
   "metadata": {
    "ExecuteTime": {
     "end_time": "2024-10-04T18:28:16.382672Z",
     "start_time": "2024-10-04T18:28:14.729360Z"
    }
   },
   "source": [
    "data_running = Path('data/running')\n",
    "df_running = pd.concat([pd.read_csv(f) for f in data_running.glob('*.csv')], ignore_index=True)\n",
    "df_running['activity']= 'running'\n",
    "# df_running.to_csv('running.csv', index=False)"
   ],
   "outputs": [],
   "execution_count": 4
  },
  {
   "cell_type": "code",
   "id": "7b0d51c4a2ce1ddf",
   "metadata": {
    "ExecuteTime": {
     "end_time": "2024-10-04T18:28:16.469484Z",
     "start_time": "2024-10-04T18:28:16.383676Z"
    }
   },
   "source": [
    "data_stairs = Path('data/stairs')\n",
    "df_stairs = pd.concat([pd.read_csv(f) for f in data_stairs.glob('*.csv')], ignore_index=True)\n",
    "df_stairs['activity']= 'stairs'\n",
    "# df_stairs.to_csv('stairs.csv', index=False)"
   ],
   "outputs": [],
   "execution_count": 5
  },
  {
   "cell_type": "code",
   "id": "39cbea1ac919c891",
   "metadata": {
    "ExecuteTime": {
     "end_time": "2024-10-04T18:28:17.367671Z",
     "start_time": "2024-10-04T18:28:16.469484Z"
    }
   },
   "source": [
    "data_walking = Path('data/walking')\n",
    "df_walking = pd.concat([pd.read_csv(f) for f in data_walking.glob('*.csv')], ignore_index=True)\n",
    "df_walking['activity']= 'walking'\n",
    "# df_walking.to_csv('walking.csv', index=False)"
   ],
   "outputs": [],
   "execution_count": 6
  },
  {
   "cell_type": "code",
   "id": "a3790c9a9d800bc9",
   "metadata": {
    "ExecuteTime": {
     "end_time": "2024-10-04T18:28:17.373192Z",
     "start_time": "2024-10-04T18:28:17.368675Z"
    }
   },
   "source": [
    "df = pd.concat([df_idle, df_running, df_stairs, df_walking], ignore_index=True)"
   ],
   "outputs": [],
   "execution_count": 7
  },
  {
   "cell_type": "code",
   "id": "3cd65061bc55420f",
   "metadata": {
    "ExecuteTime": {
     "end_time": "2024-10-04T18:28:17.385137Z",
     "start_time": "2024-10-04T18:28:17.373699Z"
    }
   },
   "source": [
    "df"
   ],
   "outputs": [
    {
     "data": {
      "text/plain": [
       "        accelerometer_X  accelerometer_Y  accelerometer_Z activity\n",
       "0              1.000776         4.616021         8.576031     idle\n",
       "1              0.718261         4.209007         8.446744     idle\n",
       "2             -0.909797        -0.282516         9.203311     idle\n",
       "3              5.099650         0.148441         8.418014     idle\n",
       "4              1.762132        -0.162806         9.251195     idle\n",
       "...                 ...              ...              ...      ...\n",
       "193855         5.109226       -15.452178        -1.470040  walking\n",
       "193856         6.373365       -11.741165        -8.226476  walking\n",
       "193857         3.289633        -9.993398        -0.383072  walking\n",
       "193858        -2.978387        -3.050213         1.273715  walking\n",
       "193859        -4.347870        -9.926360        -1.642422  walking\n",
       "\n",
       "[193860 rows x 4 columns]"
      ],
      "text/html": [
       "<div>\n",
       "<style scoped>\n",
       "    .dataframe tbody tr th:only-of-type {\n",
       "        vertical-align: middle;\n",
       "    }\n",
       "\n",
       "    .dataframe tbody tr th {\n",
       "        vertical-align: top;\n",
       "    }\n",
       "\n",
       "    .dataframe thead th {\n",
       "        text-align: right;\n",
       "    }\n",
       "</style>\n",
       "<table border=\"1\" class=\"dataframe\">\n",
       "  <thead>\n",
       "    <tr style=\"text-align: right;\">\n",
       "      <th></th>\n",
       "      <th>accelerometer_X</th>\n",
       "      <th>accelerometer_Y</th>\n",
       "      <th>accelerometer_Z</th>\n",
       "      <th>activity</th>\n",
       "    </tr>\n",
       "  </thead>\n",
       "  <tbody>\n",
       "    <tr>\n",
       "      <th>0</th>\n",
       "      <td>1.000776</td>\n",
       "      <td>4.616021</td>\n",
       "      <td>8.576031</td>\n",
       "      <td>idle</td>\n",
       "    </tr>\n",
       "    <tr>\n",
       "      <th>1</th>\n",
       "      <td>0.718261</td>\n",
       "      <td>4.209007</td>\n",
       "      <td>8.446744</td>\n",
       "      <td>idle</td>\n",
       "    </tr>\n",
       "    <tr>\n",
       "      <th>2</th>\n",
       "      <td>-0.909797</td>\n",
       "      <td>-0.282516</td>\n",
       "      <td>9.203311</td>\n",
       "      <td>idle</td>\n",
       "    </tr>\n",
       "    <tr>\n",
       "      <th>3</th>\n",
       "      <td>5.099650</td>\n",
       "      <td>0.148441</td>\n",
       "      <td>8.418014</td>\n",
       "      <td>idle</td>\n",
       "    </tr>\n",
       "    <tr>\n",
       "      <th>4</th>\n",
       "      <td>1.762132</td>\n",
       "      <td>-0.162806</td>\n",
       "      <td>9.251195</td>\n",
       "      <td>idle</td>\n",
       "    </tr>\n",
       "    <tr>\n",
       "      <th>...</th>\n",
       "      <td>...</td>\n",
       "      <td>...</td>\n",
       "      <td>...</td>\n",
       "      <td>...</td>\n",
       "    </tr>\n",
       "    <tr>\n",
       "      <th>193855</th>\n",
       "      <td>5.109226</td>\n",
       "      <td>-15.452178</td>\n",
       "      <td>-1.470040</td>\n",
       "      <td>walking</td>\n",
       "    </tr>\n",
       "    <tr>\n",
       "      <th>193856</th>\n",
       "      <td>6.373365</td>\n",
       "      <td>-11.741165</td>\n",
       "      <td>-8.226476</td>\n",
       "      <td>walking</td>\n",
       "    </tr>\n",
       "    <tr>\n",
       "      <th>193857</th>\n",
       "      <td>3.289633</td>\n",
       "      <td>-9.993398</td>\n",
       "      <td>-0.383072</td>\n",
       "      <td>walking</td>\n",
       "    </tr>\n",
       "    <tr>\n",
       "      <th>193858</th>\n",
       "      <td>-2.978387</td>\n",
       "      <td>-3.050213</td>\n",
       "      <td>1.273715</td>\n",
       "      <td>walking</td>\n",
       "    </tr>\n",
       "    <tr>\n",
       "      <th>193859</th>\n",
       "      <td>-4.347870</td>\n",
       "      <td>-9.926360</td>\n",
       "      <td>-1.642422</td>\n",
       "      <td>walking</td>\n",
       "    </tr>\n",
       "  </tbody>\n",
       "</table>\n",
       "<p>193860 rows × 4 columns</p>\n",
       "</div>"
      ]
     },
     "execution_count": 8,
     "metadata": {},
     "output_type": "execute_result"
    }
   ],
   "execution_count": 8
  },
  {
   "cell_type": "code",
   "id": "55952135f646d8b4",
   "metadata": {
    "ExecuteTime": {
     "end_time": "2024-10-04T18:28:17.398631Z",
     "start_time": "2024-10-04T18:28:17.386141Z"
    }
   },
   "source": [
    "X = df[['accelerometer_X', 'accelerometer_Y', 'accelerometer_Z']]\n",
    "y = df['activity']\n",
    "X_train, X_test, y_train, y_test = train_test_split(X, y, test_size=0.2, random_state=42)"
   ],
   "outputs": [],
   "execution_count": 9
  },
  {
   "cell_type": "code",
   "id": "c3c8c732c385af53",
   "metadata": {
    "jupyter": {
     "is_executing": true
    },
    "ExecuteTime": {
     "start_time": "2024-10-04T18:28:17.398631Z"
    }
   },
   "source": [
    "svm_model = SVC(kernel='linear', C=0.1)\n",
    "svm_model.fit(X_train, y_train)"
   ],
   "outputs": [],
   "execution_count": null
  },
  {
   "cell_type": "code",
   "id": "a63031755c3e2704",
   "metadata": {
    "jupyter": {
     "is_executing": true
    }
   },
   "source": [
    "rf_model = RandomForestClassifier(n_estimators=100, random_state=42)\n",
    "rf_model.fit(X_train, y_train)"
   ],
   "outputs": [],
   "execution_count": null
  },
  {
   "cell_type": "code",
   "id": "d8218c406a3c880",
   "metadata": {
    "jupyter": {
     "is_executing": true
    }
   },
   "source": [
    "# predict_svm = svm_model.predict(X_test)\n",
    "predict_rf = rf_model.predict(X_test)"
   ],
   "outputs": [],
   "execution_count": null
  },
  {
   "cell_type": "code",
   "id": "b7f45474c06b9367",
   "metadata": {
    "jupyter": {
     "is_executing": true
    }
   },
   "source": [
    "# print(classification_report(y_test, predict_svm))\n",
    "print(classification_report(y_test, predict_rf))"
   ],
   "outputs": [],
   "execution_count": null
  },
  {
   "cell_type": "code",
   "id": "6c05f7738110548e",
   "metadata": {
    "jupyter": {
     "is_executing": true
    }
   },
   "source": [],
   "outputs": [],
   "execution_count": null
  }
 ],
 "metadata": {
  "kernelspec": {
   "display_name": "Python 3 (ipykernel)",
   "language": "python",
   "name": "python3"
  },
  "language_info": {
   "codemirror_mode": {
    "name": "ipython",
    "version": 3
   },
   "file_extension": ".py",
   "mimetype": "text/x-python",
   "name": "python",
   "nbconvert_exporter": "python",
   "pygments_lexer": "ipython3",
   "version": "3.12.4"
  }
 },
 "nbformat": 4,
 "nbformat_minor": 5
}
