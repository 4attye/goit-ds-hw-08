{
 "cells": [
  {
   "cell_type": "code",
   "id": "initial_id",
   "metadata": {
    "ExecuteTime": {
     "end_time": "2024-10-06T15:59:45.745391Z",
     "start_time": "2024-10-06T15:59:45.742442Z"
    }
   },
   "source": [
    "from pathlib import Path\n",
    "import pandas as pd"
   ],
   "outputs": [],
   "execution_count": 22
  },
  {
   "cell_type": "code",
   "id": "8b41b920a73abcb8",
   "metadata": {
    "ExecuteTime": {
     "end_time": "2024-10-06T15:59:46.302690Z",
     "start_time": "2024-10-06T15:59:45.763445Z"
    }
   },
   "source": [
    "data_idle = Path('data/idle')\n",
    "df_idle = pd.concat([pd.read_csv(f) for f in data_idle.glob('*.csv')], ignore_index=True)\n",
    "df_idle['activity']= 'idle'"
   ],
   "outputs": [],
   "execution_count": 23
  },
  {
   "cell_type": "code",
   "id": "840e85fba506e8b9",
   "metadata": {
    "ExecuteTime": {
     "end_time": "2024-10-06T15:59:47.898894Z",
     "start_time": "2024-10-06T15:59:46.303689Z"
    }
   },
   "source": [
    "data_running = Path('data/running')\n",
    "df_running = pd.concat([pd.read_csv(f) for f in data_running.glob('*.csv')], ignore_index=True)\n",
    "df_running['activity']= 'running'"
   ],
   "outputs": [],
   "execution_count": 24
  },
  {
   "cell_type": "code",
   "id": "7b0d51c4a2ce1ddf",
   "metadata": {
    "ExecuteTime": {
     "end_time": "2024-10-06T15:59:47.986092Z",
     "start_time": "2024-10-06T15:59:47.899898Z"
    }
   },
   "source": [
    "data_stairs = Path('data/stairs')\n",
    "df_stairs = pd.concat([pd.read_csv(f) for f in data_stairs.glob('*.csv')], ignore_index=True)\n",
    "df_stairs['activity']= 'stairs'"
   ],
   "outputs": [],
   "execution_count": 25
  },
  {
   "cell_type": "code",
   "id": "39cbea1ac919c891",
   "metadata": {
    "ExecuteTime": {
     "end_time": "2024-10-06T15:59:48.823917Z",
     "start_time": "2024-10-06T15:59:47.987096Z"
    }
   },
   "source": [
    "data_walking = Path('data/walking')\n",
    "df_walking = pd.concat([pd.read_csv(f) for f in data_walking.glob('*.csv')], ignore_index=True)\n",
    "df_walking['activity']= 'walking'"
   ],
   "outputs": [],
   "execution_count": 26
  },
  {
   "cell_type": "code",
   "id": "a3790c9a9d800bc9",
   "metadata": {
    "ExecuteTime": {
     "end_time": "2024-10-06T15:59:48.828866Z",
     "start_time": "2024-10-06T15:59:48.824925Z"
    }
   },
   "source": [
    "df = pd.concat([df_idle, df_running, df_stairs, df_walking], ignore_index=True)"
   ],
   "outputs": [],
   "execution_count": 27
  },
  {
   "cell_type": "code",
   "id": "3cd65061bc55420f",
   "metadata": {
    "ExecuteTime": {
     "end_time": "2024-10-06T15:59:48.834647Z",
     "start_time": "2024-10-06T15:59:48.829908Z"
    }
   },
   "source": "print(df)",
   "outputs": [
    {
     "name": "stdout",
     "output_type": "stream",
     "text": [
      "        accelerometer_X  accelerometer_Y  accelerometer_Z activity\n",
      "0              1.000776         4.616021         8.576031     idle\n",
      "1              0.718261         4.209007         8.446744     idle\n",
      "2             -0.909797        -0.282516         9.203311     idle\n",
      "3              5.099650         0.148441         8.418014     idle\n",
      "4              1.762132        -0.162806         9.251195     idle\n",
      "...                 ...              ...              ...      ...\n",
      "193855         5.109226       -15.452178        -1.470040  walking\n",
      "193856         6.373365       -11.741165        -8.226476  walking\n",
      "193857         3.289633        -9.993398        -0.383072  walking\n",
      "193858        -2.978387        -3.050213         1.273715  walking\n",
      "193859        -4.347870        -9.926360        -1.642422  walking\n",
      "\n",
      "[193860 rows x 4 columns]\n"
     ]
    }
   ],
   "execution_count": 28
  },
  {
   "metadata": {
    "ExecuteTime": {
     "end_time": "2024-10-06T15:59:49.141045Z",
     "start_time": "2024-10-06T15:59:48.835652Z"
    }
   },
   "cell_type": "code",
   "source": "df.to_csv('dataset.csv', index=False)",
   "id": "762a0390ec961b99",
   "outputs": [],
   "execution_count": 29
  }
 ],
 "metadata": {
  "kernelspec": {
   "display_name": "Python 3 (ipykernel)",
   "language": "python",
   "name": "python3"
  },
  "language_info": {
   "codemirror_mode": {
    "name": "ipython",
    "version": 3
   },
   "file_extension": ".py",
   "mimetype": "text/x-python",
   "name": "python",
   "nbconvert_exporter": "python",
   "pygments_lexer": "ipython3",
   "version": "3.12.4"
  }
 },
 "nbformat": 4,
 "nbformat_minor": 5
}
