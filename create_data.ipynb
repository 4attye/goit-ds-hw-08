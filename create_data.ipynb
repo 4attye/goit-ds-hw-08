{
 "cells": [
  {
   "cell_type": "code",
   "id": "initial_id",
   "metadata": {
    "ExecuteTime": {
     "end_time": "2024-10-05T17:46:24.413463Z",
     "start_time": "2024-10-05T17:46:24.406441Z"
    }
   },
   "source": [
    "from pathlib import Path\n",
    "import pandas as pd\n",
    "# from sklearn.model_selection import train_test_split\n",
    "# from sklearn.svm import SVC\n",
    "# from sklearn.ensemble import RandomForestClassifier\n",
    "# from sklearn.metrics import classification_report\n",
    "# from sklearn.model_selection import GridSearchCV"
   ],
   "outputs": [],
   "execution_count": 23
  },
  {
   "cell_type": "code",
   "id": "8b41b920a73abcb8",
   "metadata": {
    "ExecuteTime": {
     "end_time": "2024-10-05T17:46:28.872527Z",
     "start_time": "2024-10-05T17:46:24.554338Z"
    }
   },
   "source": [
    "data_idle = Path('data/idle')\n",
    "df_idle = pd.concat([pd.read_csv(f) for f in data_idle.glob('*.csv')], ignore_index=True)\n",
    "df_idle['activity']= 'idle'\n",
    "df_idle.to_csv('idle.csv', index=False)"
   ],
   "outputs": [],
   "execution_count": 24
  },
  {
   "cell_type": "code",
   "id": "840e85fba506e8b9",
   "metadata": {
    "ExecuteTime": {
     "end_time": "2024-10-05T17:46:45.323633Z",
     "start_time": "2024-10-05T17:46:28.907592Z"
    }
   },
   "source": [
    "data_running = Path('data/running')\n",
    "df_running = pd.concat([pd.read_csv(f) for f in data_running.glob('*.csv')], ignore_index=True)\n",
    "df_running['activity']= 'running'\n",
    "df_running.to_csv('running.csv', index=False)"
   ],
   "outputs": [],
   "execution_count": 25
  },
  {
   "cell_type": "code",
   "id": "7b0d51c4a2ce1ddf",
   "metadata": {
    "ExecuteTime": {
     "end_time": "2024-10-05T17:46:46.754418Z",
     "start_time": "2024-10-05T17:46:45.325652Z"
    }
   },
   "source": [
    "data_stairs = Path('data/stairs')\n",
    "df_stairs = pd.concat([pd.read_csv(f) for f in data_stairs.glob('*.csv')], ignore_index=True)\n",
    "df_stairs['activity']= 'stairs'\n",
    "df_stairs.to_csv('stairs.csv', index=False)"
   ],
   "outputs": [],
   "execution_count": 26
  },
  {
   "cell_type": "code",
   "id": "39cbea1ac919c891",
   "metadata": {
    "ExecuteTime": {
     "end_time": "2024-10-05T17:47:02.979351Z",
     "start_time": "2024-10-05T17:46:46.757431Z"
    }
   },
   "source": [
    "data_walking = Path('data/walking')\n",
    "df_walking = pd.concat([pd.read_csv(f) for f in data_walking.glob('*.csv')], ignore_index=True)\n",
    "df_walking['activity']= 'walking'\n",
    "df_walking.to_csv('walking.csv', index=False)"
   ],
   "outputs": [],
   "execution_count": 27
  },
  {
   "cell_type": "code",
   "id": "a3790c9a9d800bc9",
   "metadata": {
    "ExecuteTime": {
     "end_time": "2024-10-05T17:47:03.012031Z",
     "start_time": "2024-10-05T17:47:02.982355Z"
    }
   },
   "source": [
    "df = pd.concat([df_idle, df_running, df_stairs, df_walking], ignore_index=True)"
   ],
   "outputs": [],
   "execution_count": 28
  },
  {
   "cell_type": "code",
   "id": "3cd65061bc55420f",
   "metadata": {
    "ExecuteTime": {
     "end_time": "2024-10-05T17:47:40.124379Z",
     "start_time": "2024-10-05T17:47:40.101420Z"
    }
   },
   "source": "df.head()",
   "outputs": [
    {
     "data": {
      "text/plain": [
       "   accelerometer_X  accelerometer_Y  accelerometer_Z activity\n",
       "0         1.000776         4.616021         8.576031     idle\n",
       "1         0.718261         4.209007         8.446744     idle\n",
       "2        -0.909797        -0.282516         9.203311     idle\n",
       "3         5.099650         0.148441         8.418014     idle\n",
       "4         1.762132        -0.162806         9.251195     idle"
      ],
      "text/html": [
       "<div>\n",
       "<style scoped>\n",
       "    .dataframe tbody tr th:only-of-type {\n",
       "        vertical-align: middle;\n",
       "    }\n",
       "\n",
       "    .dataframe tbody tr th {\n",
       "        vertical-align: top;\n",
       "    }\n",
       "\n",
       "    .dataframe thead th {\n",
       "        text-align: right;\n",
       "    }\n",
       "</style>\n",
       "<table border=\"1\" class=\"dataframe\">\n",
       "  <thead>\n",
       "    <tr style=\"text-align: right;\">\n",
       "      <th></th>\n",
       "      <th>accelerometer_X</th>\n",
       "      <th>accelerometer_Y</th>\n",
       "      <th>accelerometer_Z</th>\n",
       "      <th>activity</th>\n",
       "    </tr>\n",
       "  </thead>\n",
       "  <tbody>\n",
       "    <tr>\n",
       "      <th>0</th>\n",
       "      <td>1.000776</td>\n",
       "      <td>4.616021</td>\n",
       "      <td>8.576031</td>\n",
       "      <td>idle</td>\n",
       "    </tr>\n",
       "    <tr>\n",
       "      <th>1</th>\n",
       "      <td>0.718261</td>\n",
       "      <td>4.209007</td>\n",
       "      <td>8.446744</td>\n",
       "      <td>idle</td>\n",
       "    </tr>\n",
       "    <tr>\n",
       "      <th>2</th>\n",
       "      <td>-0.909797</td>\n",
       "      <td>-0.282516</td>\n",
       "      <td>9.203311</td>\n",
       "      <td>idle</td>\n",
       "    </tr>\n",
       "    <tr>\n",
       "      <th>3</th>\n",
       "      <td>5.099650</td>\n",
       "      <td>0.148441</td>\n",
       "      <td>8.418014</td>\n",
       "      <td>idle</td>\n",
       "    </tr>\n",
       "    <tr>\n",
       "      <th>4</th>\n",
       "      <td>1.762132</td>\n",
       "      <td>-0.162806</td>\n",
       "      <td>9.251195</td>\n",
       "      <td>idle</td>\n",
       "    </tr>\n",
       "  </tbody>\n",
       "</table>\n",
       "</div>"
      ]
     },
     "execution_count": 39,
     "metadata": {},
     "output_type": "execute_result"
    }
   ],
   "execution_count": 39
  },
  {
   "cell_type": "code",
   "id": "55952135f646d8b4",
   "metadata": {
    "ExecuteTime": {
     "end_time": "2024-10-05T17:47:03.036039Z",
     "start_time": "2024-10-05T17:47:03.031130Z"
    }
   },
   "source": [
    "# X = df[['accelerometer_X', 'accelerometer_Y', 'accelerometer_Z']]\n",
    "# y = df['activity']\n",
    "# X_train, X_test, y_train, y_test = train_test_split(X, y, test_size=0.2, random_state=42)"
   ],
   "outputs": [],
   "execution_count": 30
  },
  {
   "cell_type": "code",
   "id": "c3c8c732c385af53",
   "metadata": {
    "ExecuteTime": {
     "end_time": "2024-10-05T17:47:03.066885Z",
     "start_time": "2024-10-05T17:47:03.038050Z"
    }
   },
   "source": [
    "# svm_model = SVC(kernel='linear')\n",
    "# svm_model.fit(X_train, y_train)"
   ],
   "outputs": [],
   "execution_count": 31
  },
  {
   "cell_type": "code",
   "id": "a63031755c3e2704",
   "metadata": {
    "ExecuteTime": {
     "end_time": "2024-10-05T17:47:03.075500Z",
     "start_time": "2024-10-05T17:47:03.068897Z"
    }
   },
   "source": [
    "# rf_model = RandomForestClassifier(n_estimators=100, random_state=42)\n",
    "# rf_model.fit(X_train, y_train)"
   ],
   "outputs": [],
   "execution_count": 32
  },
  {
   "cell_type": "code",
   "id": "d8218c406a3c880",
   "metadata": {
    "ExecuteTime": {
     "end_time": "2024-10-05T17:47:03.093998Z",
     "start_time": "2024-10-05T17:47:03.090460Z"
    }
   },
   "source": [
    "# predict_svm = svm_model.predict(X_test)\n",
    "# predict_rf = rf_model.predict(X_test)"
   ],
   "outputs": [],
   "execution_count": 33
  },
  {
   "cell_type": "code",
   "id": "b7f45474c06b9367",
   "metadata": {
    "ExecuteTime": {
     "end_time": "2024-10-05T17:47:03.137611Z",
     "start_time": "2024-10-05T17:47:03.100540Z"
    }
   },
   "source": "# print(classification_report(y_test, predict_svm))",
   "outputs": [],
   "execution_count": 34
  },
  {
   "cell_type": "code",
   "id": "6c05f7738110548e",
   "metadata": {
    "ExecuteTime": {
     "end_time": "2024-10-05T17:47:03.193876Z",
     "start_time": "2024-10-05T17:47:03.139551Z"
    }
   },
   "source": "# print(classification_report(y_test, predict_rf))",
   "outputs": [],
   "execution_count": 35
  },
  {
   "metadata": {
    "ExecuteTime": {
     "end_time": "2024-10-05T17:47:03.202707Z",
     "start_time": "2024-10-05T17:47:03.198408Z"
    }
   },
   "cell_type": "code",
   "source": [
    "# param_grid = {'C': [0.1, 1, 10], 'kernel': ['linear', 'rbf'], 'gamma': ['scale', 'auto'], 'class_weight': ['balanced']}\n",
    "# grid_svm = GridSearchCV(SVC(), param_grid, refit=True, verbose=2, n_jobs=-1)\n",
    "# grid_svm.fit(X_train, y_train) "
   ],
   "id": "fef4f1e38af3cb12",
   "outputs": [],
   "execution_count": 36
  },
  {
   "metadata": {
    "ExecuteTime": {
     "end_time": "2024-10-05T17:47:03.221231Z",
     "start_time": "2024-10-05T17:47:03.204721Z"
    }
   },
   "cell_type": "code",
   "source": "# predict_svm = grid_svm.predict(X_test)",
   "id": "8d10707affa2c52b",
   "outputs": [],
   "execution_count": 37
  },
  {
   "metadata": {},
   "cell_type": "code",
   "source": "# print(classification_report(y_test, predict_svm))",
   "id": "f95d0982c993a683",
   "outputs": [],
   "execution_count": 38
  },
  {
   "metadata": {},
   "cell_type": "code",
   "source": "",
   "id": "762a0390ec961b99",
   "outputs": [],
   "execution_count": 38
  }
 ],
 "metadata": {
  "kernelspec": {
   "display_name": "Python 3 (ipykernel)",
   "language": "python",
   "name": "python3"
  },
  "language_info": {
   "codemirror_mode": {
    "name": "ipython",
    "version": 3
   },
   "file_extension": ".py",
   "mimetype": "text/x-python",
   "name": "python",
   "nbconvert_exporter": "python",
   "pygments_lexer": "ipython3",
   "version": "3.12.4"
  }
 },
 "nbformat": 4,
 "nbformat_minor": 5
}
